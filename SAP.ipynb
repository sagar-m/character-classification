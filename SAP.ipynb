{
  "nbformat": 4,
  "nbformat_minor": 0,
  "metadata": {
    "colab": {
      "name": "SAP.ipynb",
      "version": "0.3.2",
      "provenance": [],
      "collapsed_sections": []
    },
    "kernelspec": {
      "name": "python3",
      "display_name": "Python 3"
    },
    "accelerator": "GPU"
  },
  "cells": [
    {
      "cell_type": "markdown",
      "metadata": {
        "id": "view-in-github",
        "colab_type": "text"
      },
      "source": [
        "[View in Colaboratory](https://colab.research.google.com/github/sagar-m/character-classification/blob/master/SAP.ipynb)"
      ]
    },
    {
      "metadata": {
        "id": "8tToBXGM0moQ",
        "colab_type": "code",
        "colab": {
          "base_uri": "https://localhost:8080/",
          "height": 52
        },
        "outputId": "1900d406-d205-4953-fcaf-0487da7b6b60"
      },
      "cell_type": "code",
      "source": [
        "# this is for google drive, please ignore\n",
        "!mkdir -p drive\n",
        "!google-drive-ocamlfuse drive"
      ],
      "execution_count": 1,
      "outputs": [
        {
          "output_type": "stream",
          "text": [
            "fuse: mountpoint is not empty\r\n",
            "fuse: if you are sure this is safe, use the 'nonempty' mount option\r\n"
          ],
          "name": "stdout"
        }
      ]
    },
    {
      "metadata": {
        "id": "A5xjtXFt0y--",
        "colab_type": "code",
        "colab": {
          "base_uri": "https://localhost:8080/",
          "height": 35
        },
        "outputId": "9601c7c2-6a5c-4def-e3dd-8aa6e4dcb364"
      },
      "cell_type": "code",
      "source": [
        "#just checking the data size\n",
        "import pandas as pd\n",
        "xtrain = pd.read_csv('drive/coursera/xtrain_obfuscated.csv')\n",
        "xtrain.shape"
      ],
      "execution_count": 24,
      "outputs": [
        {
          "output_type": "execute_result",
          "data": {
            "text/plain": [
              "(32512, 1)"
            ]
          },
          "metadata": {
            "tags": []
          },
          "execution_count": 24
        }
      ]
    },
    {
      "metadata": {
        "id": "LVnPfWiw6iY5",
        "colab_type": "code",
        "colab": {
          "base_uri": "https://localhost:8080/",
          "height": 121
        },
        "outputId": "513207b0-8632-4c85-f3c1-14344c92fdd6"
      },
      "cell_type": "code",
      "source": [
        "\n",
        "##just checking the data size\n",
        "\n",
        "import pandas as pd\n",
        "ytrain = pd.read_csv('drive/coursera/ytrain.csv')\n",
        "#print(ytrain.shape)\n",
        "print(ytrain.tail(5))"
      ],
      "execution_count": 3,
      "outputs": [
        {
          "output_type": "stream",
          "text": [
            "        7\n",
            "32507   6\n",
            "32508  10\n",
            "32509  10\n",
            "32510   6\n",
            "32511   3\n"
          ],
          "name": "stdout"
        }
      ]
    },
    {
      "metadata": {
        "id": "6mJNgpDc8yOp",
        "colab_type": "code",
        "colab": {}
      },
      "cell_type": "code",
      "source": [
        "import os\n",
        "import time\n",
        "import numpy as np\n",
        "import pandas as pd\n"
      ],
      "execution_count": 0,
      "outputs": []
    },
    {
      "metadata": {
        "id": "EqW7M-re6orf",
        "colab_type": "code",
        "colab": {
          "base_uri": "https://localhost:8080/",
          "height": 34
        },
        "outputId": "64cdd45a-5fff-4a3b-f688-24b1f9bf1886"
      },
      "cell_type": "code",
      "source": [
        "#just checking the data size\n",
        "xtest = pd.read_csv('drive/coursera/xtest_obfuscated.csv')\n",
        "xtest.shape"
      ],
      "execution_count": 7,
      "outputs": [
        {
          "output_type": "execute_result",
          "data": {
            "text/plain": [
              "(2999, 1)"
            ]
          },
          "metadata": {
            "tags": []
          },
          "execution_count": 7
        }
      ]
    },
    {
      "metadata": {
        "id": "9dqX7Wnk9zKJ",
        "colab_type": "code",
        "colab": {}
      },
      "cell_type": "code",
      "source": [
        "# this is for google drive, please ignore\n",
        "\n",
        "!apt-get install -y -qq software-properties-common python-software-properties module-init-tools\n",
        "!add-apt-repository -y ppa:alessandro-strada/ppa 2>&1 > /dev/null\n",
        "!apt-get update -qq 2>&1 > /dev/null\n",
        "!apt-get -y install -qq google-drive-ocamlfuse fuse\n",
        "from google.colab import auth\n",
        "auth.authenticate_user()\n",
        "from oauth2client.client import GoogleCredentials\n",
        "creds = GoogleCredentials.get_application_default()\n",
        "import getpass\n",
        "!google-drive-ocamlfuse -headless -id={creds.client_id} -secret={creds.client_secret} < /dev/null 2>&1 | grep URL\n",
        "vcode = getpass.getpass()\n",
        "!echo {vcode} | google-drive-ocamlfuse -headless -id={creds.client_id} -secret={creds.client_secret}"
      ],
      "execution_count": 0,
      "outputs": []
    },
    {
      "metadata": {
        "id": "slmTXZSXebHO",
        "colab_type": "code",
        "colab": {
          "base_uri": "https://localhost:8080/",
          "height": 35
        },
        "outputId": "fea2268b-a93e-46ac-be28-8b8c9055148b"
      },
      "cell_type": "code",
      "source": [
        "\n",
        "from keras.wrappers.scikit_learn import KerasClassifier\n",
        "from sklearn.model_selection import cross_val_score\n",
        "from sklearn.model_selection import KFold\n",
        "from sklearn.preprocessing import LabelEncoder\n",
        "from sklearn.pipeline import Pipeline\n",
        "\n",
        "from pickle import dump\n",
        "from keras.utils import to_categorical, np_utils\n",
        "from keras.models import Sequential\n",
        "from keras.layers import Dense\n",
        "from keras.layers import LSTM\n",
        "import numpy as np"
      ],
      "execution_count": 3,
      "outputs": [
        {
          "output_type": "stream",
          "text": [
            "Using TensorFlow backend.\n"
          ],
          "name": "stderr"
        }
      ]
    },
    {
      "metadata": {
        "id": "Pr2Jgt0FBjbG",
        "colab_type": "code",
        "colab": {}
      },
      "cell_type": "code",
      "source": [
        "# fix random seed for reproducibility\n",
        "seed = 7\n",
        "np.random.seed(seed)"
      ],
      "execution_count": 0,
      "outputs": []
    },
    {
      "metadata": {
        "id": "RsBfttwjIDbk",
        "colab_type": "code",
        "colab": {
          "base_uri": "https://localhost:8080/",
          "height": 69
        },
        "outputId": "1d11fb3b-380d-432f-983e-5620f27d03aa"
      },
      "cell_type": "code",
      "source": [
        "#@title\n",
        "## preprocessing 1\n",
        "\n",
        "\n",
        "data = open('drive/coursera/xtrain_obfuscated.txt','r').read()\n",
        "chars = list(set(data))\n",
        "data_size, vocab_size = len(data), len(chars)\n",
        "print('There are %d total characters and %d unique characters in data.' % (data_size,vocab_size))\n",
        "print(len(chars))\n",
        "chars[1]\n",
        "\n"
      ],
      "execution_count": 6,
      "outputs": [
        {
          "output_type": "stream",
          "text": [
            "There are 13473041 total characters and 27 unique characters in data.\n",
            "27\n"
          ],
          "name": "stdout"
        },
        {
          "output_type": "execute_result",
          "data": {
            "text/plain": [
              "'z'"
            ]
          },
          "metadata": {
            "tags": []
          },
          "execution_count": 6
        }
      ]
    },
    {
      "metadata": {
        "id": "vJBwSqPQlfOY",
        "colab_type": "code",
        "colab": {
          "base_uri": "https://localhost:8080/",
          "height": 141
        },
        "outputId": "810bc2d4-d724-496b-8d60-aaf4aba4f775"
      },
      "cell_type": "code",
      "source": [
        "## preprocessing 2\n",
        "\n",
        "#@title\n",
        "#hash table\n",
        "\n",
        "char_to_ix = { ch:i for i,ch in enumerate(sorted(chars)) }\n",
        "ix_to_char = { i:ch for i,ch in enumerate(sorted(chars)) }\n",
        "print(\"char_to_ix = \", \"\\n\", ix_to_char,\"\\n\"*2) \n",
        "print(\"ix_to_char = \", \"\\n\", char_to_ix)"
      ],
      "execution_count": 8,
      "outputs": [
        {
          "output_type": "stream",
          "text": [
            "char_to_ix =  \n",
            " {0: '\\n', 1: 'a', 2: 'b', 3: 'c', 4: 'd', 5: 'e', 6: 'f', 7: 'g', 8: 'h', 9: 'i', 10: 'j', 11: 'k', 12: 'l', 13: 'm', 14: 'n', 15: 'o', 16: 'p', 17: 'q', 18: 'r', 19: 's', 20: 't', 21: 'u', 22: 'v', 23: 'w', 24: 'x', 25: 'y', 26: 'z'} \n",
            "\n",
            "\n",
            "ix_to_char =  \n",
            " {'\\n': 0, 'a': 1, 'b': 2, 'c': 3, 'd': 4, 'e': 5, 'f': 6, 'g': 7, 'h': 8, 'i': 9, 'j': 10, 'k': 11, 'l': 12, 'm': 13, 'n': 14, 'o': 15, 'p': 16, 'q': 17, 'r': 18, 's': 19, 't': 20, 'u': 21, 'v': 22, 'w': 23, 'x': 24, 'y': 25, 'z': 26}\n"
          ],
          "name": "stdout"
        }
      ]
    },
    {
      "metadata": {
        "id": "j8jLzjvXXMxz",
        "colab_type": "code",
        "colab": {
          "base_uri": "https://localhost:8080/",
          "height": 72
        },
        "outputId": "13c61550-2064-4e5d-8e84-6108e31f1c85"
      },
      "cell_type": "code",
      "source": [
        "## preprocessing 3\n",
        "\n",
        "\n",
        "#@title\n",
        "#print(xtrain.head(1))\n",
        "#print(examples.head(1).map(str).apply(len))\n",
        "#print(list(map(len, X[[10]]))) \n",
        "#print(list(map(len, xtrain.iloc[[10]]))) \n",
        "\n",
        "examples = data.split('\\n')\n",
        "#print(examples[1:3],\"\\n\")\n",
        "#print(len(examples),\"\\n\")\n",
        "\n",
        "X = []\n",
        "Y = []\n",
        "for index in range(len(examples)):\n",
        "    lineX = [char_to_ix[ch] for ch in examples[index]]\n",
        "    X.append(lineX)\n",
        "    lineY = lineX[1:] + [char_to_ix[\"\\n\"]]\n",
        "    Y.append(lineY)\n",
        "print(\"X[32513]:\", X[32153])\n",
        "#print(\"Y[1]:\", Y[1], \"\\n\") \n",
        "print(len(X),len(Y))\n"
      ],
      "execution_count": 9,
      "outputs": [
        {
          "output_type": "stream",
          "text": [
            "X[32513]: [21, 12, 24, 5, 20, 23, 9, 23, 21, 8, 20, 23, 4, 6, 21, 8, 10, 26, 17, 22, 22, 9, 12, 5, 20, 23, 21, 12, 22, 9, 5, 14, 9, 23, 21, 8, 1, 13, 21, 12, 13, 22, 4, 6, 21, 8, 17, 7, 21, 12, 17, 22, 5, 14, 20, 23, 12, 5, 20, 22, 5, 14, 21, 8, 12, 18, 22, 9, 13, 22, 7, 26, 20, 23, 20, 23, 21, 3, 21, 8, 9, 23, 9, 23, 5, 14, 21, 8, 17, 7, 1, 13, 25, 16, 12, 5, 5, 14, 20, 23, 17, 22, 21, 8, 1, 13, 12, 18, 11, 18, 16, 13, 12, 5, 16, 13, 1, 13, 21, 12, 21, 8, 22, 9, 5, 14, 12, 18, 20, 23, 20, 22, 21, 8, 21, 12, 17, 22, 20, 23, 12, 5, 21, 8, 20, 23, 1, 13, 21, 12, 21, 8, 20, 23, 9, 23, 13, 22, 1, 13, 4, 6, 21, 8, 17, 7, 5, 26, 9, 23, 20, 23, 1, 13, 21, 8, 20, 23, 1, 13, 21, 12, 21, 8, 20, 23, 21, 3, 5, 14, 21, 12, 21, 8, 5, 26, 13, 22, 1, 13, 21, 8, 21, 12, 20, 23, 9, 23, 21, 8, 9, 7, 21, 8, 18, 1, 20, 23, 21, 3, 13, 22, 7, 26, 17, 22, 19, 11, 22, 9, 5, 14, 1, 13, 21, 8, 5, 14, 21, 8, 1, 13, 21, 12, 13, 22, 4, 6, 21, 8, 20, 23, 9, 23, 20, 22, 11, 18, 16, 13, 12, 5, 21, 12, 21, 8, 24, 5, 16, 13, 21, 8, 21, 12, 11, 18, 16, 13, 21, 8, 5, 26, 20, 23, 1, 13, 21, 12, 21, 8, 7, 26, 20, 23, 20, 23, 21, 3, 21, 8, 16, 13, 21, 12, 21, 8, 20, 23, 12, 18, 5, 14, 12, 18, 22, 9, 20, 23, 21, 8, 19, 11, 9, 23, 11, 18, 16, 13, 4, 6, 21, 8, 20, 23, 1, 13, 21, 8, 19, 11, 13, 22, 5, 14, 17, 22, 21, 8, 16, 11, 22, 9, 20, 23, 5, 26, 21, 8, 20, 23, 1, 13, 21, 12, 21, 8, 20, 23, 17, 22, 13, 22, 9, 23, 5, 14, 12, 5, 16, 13, 5, 26, 20, 23, 19, 11, 21, 8, 19, 11, 9, 23, 11, 18, 16, 13, 4, 6, 21, 8, 17, 22, 5, 14, 20, 23, 19, 11, 13, 22, 21, 8, 1, 13, 17, 22, 13, 22, 9, 23, 16, 13, 16, 13, 24, 5]\n",
            "32514 32514\n"
          ],
          "name": "stdout"
        }
      ]
    },
    {
      "metadata": {
        "id": "Tf_OoZf41a6e",
        "colab_type": "code",
        "colab": {}
      },
      "cell_type": "code",
      "source": [
        ""
      ],
      "execution_count": 0,
      "outputs": []
    },
    {
      "metadata": {
        "id": "m1Gxenk8pqAw",
        "colab_type": "code",
        "colab": {
          "base_uri": "https://localhost:8080/",
          "height": 86
        },
        "outputId": "317d9485-b616-439c-8e78-ef5fbc23b1ac"
      },
      "cell_type": "code",
      "source": [
        "# preparing xtrain part 1...............######\n",
        "\n",
        "\n",
        "from pickle import dump\n",
        "from keras.utils import to_categorical\n",
        "from keras.models import Sequential\n",
        "from keras.layers import Dense\n",
        "from keras.layers import LSTM\n",
        "import numpy as np\n",
        " \n",
        "# load doc into memory\n",
        "def load_doc(filename):\n",
        "\t# open the file as read only\n",
        "\tfile = open(filename, 'r')\n",
        "\t# read all text\n",
        "\ttext = file.read()\n",
        "\t# close the file\n",
        "\tfile.close()\n",
        "\treturn text\n",
        " \n",
        "# load\n",
        "in_filename = 'drive/coursera/xtrain_obfuscated.txt'\n",
        "raw_text = load_doc(in_filename)\n",
        "lines = raw_text.split('\\n')\n",
        " \n",
        "# integer encode sequences of characters\n",
        "chars = sorted(list(set(raw_text)))\n",
        "mapping = dict((c, i) for i, c in enumerate(chars))\n",
        "sequences = list()\n",
        "for line in lines:\n",
        "\t# integer encode line\n",
        "\tencoded_seq = [mapping[char] for char in line]\n",
        "\t# store\n",
        "\tsequences.append(encoded_seq)\n",
        " \n",
        "# vocabulary size\n",
        "vocab_size = len(mapping)\n",
        "print('Vocabulary Size: %d' % vocab_size)\n",
        " \n",
        "# separate into input and output\n",
        "sequences = np.array(sequences)\n",
        "X = sequences\n",
        "sequences = [to_categorical(x, num_classes=vocab_size) for x in X]\n",
        "#X = np.array(sequences)\n",
        "print(X[32513:32514])\n",
        "print(len(X))\n",
        "\n",
        "\n",
        "Xtrain = X[:-1]\n",
        "print(len(Xtrain))\n",
        "#print(Xtrain[0:1])\n",
        "\n",
        "#y = to_categorical(y, num_classes=vocab_size)"
      ],
      "execution_count": 10,
      "outputs": [
        {
          "output_type": "stream",
          "text": [
            "Vocabulary Size: 27\n",
            "[list([])]\n",
            "32514\n",
            "32513\n"
          ],
          "name": "stdout"
        }
      ]
    },
    {
      "metadata": {
        "id": "82u05oUqskO9",
        "colab_type": "code",
        "colab": {}
      },
      "cell_type": "code",
      "source": [
        "#print(X[1:2,])\n",
        "\n",
        "#X = X.reshape((32514,1,1))\n",
        "print(X.shape)\n",
        "\n",
        "#print(mapping)\n",
        "print(vocab_size)\n",
        "\n",
        "#(batch_size, input_dim)\n",
        "#(batch_size, timesteps, input_dim)\n",
        "\n",
        "#data_dim = 16\n",
        "timesteps = 406\n",
        "num_classes = 12\n"
      ],
      "execution_count": 0,
      "outputs": []
    },
    {
      "metadata": {
        "id": "MD-PdotaimaK",
        "colab_type": "code",
        "colab": {
          "base_uri": "https://localhost:8080/",
          "height": 52
        },
        "outputId": "ad9454c4-382a-4a07-bb0b-34d695ae118b"
      },
      "cell_type": "code",
      "source": [
        "# preparing xtrain part 2...............######\n",
        "\n",
        "\n",
        "longest_sentence = len(max(Xtrain, key=len))+1\n",
        "print(longest_sentence)\n",
        "shortest_sentence = len(min(Xtrain, key=len))+1\n",
        "print(shortest_sentence)"
      ],
      "execution_count": 11,
      "outputs": [
        {
          "output_type": "stream",
          "text": [
            "453\n",
            "169\n"
          ],
          "name": "stdout"
        }
      ]
    },
    {
      "metadata": {
        "id": "flgAjB7Udi55",
        "colab_type": "code",
        "colab": {
          "base_uri": "https://localhost:8080/",
          "height": 380
        },
        "outputId": "1441ce3e-28d1-495f-c01d-ca7b32d04cdd"
      },
      "cell_type": "code",
      "source": [
        "# preparing xtrain part 3...............######\n",
        "\n",
        "#padding all vectors to length 453\n",
        "\n",
        "sample = len(Xtrain)\n",
        "print(sample)\n",
        "vocab_size = len(char_to_ix)\n",
        "\n",
        "from keras.preprocessing import sequence\n",
        "Xtrain = sequence.pad_sequences(Xtrain, maxlen=longest_sentence,padding=\"post\")\n",
        "\n",
        "print(\"Xtrain[1]:\", Xtrain[1], \"\\n\") "
      ],
      "execution_count": 12,
      "outputs": [
        {
          "output_type": "stream",
          "text": [
            "32513\n",
            "Xtrain[1]: [20 23 13 11  9 23 16 13 17 22 20 23 12  5 21  8 19  1  9 23 19 11 20 23\n",
            " 13 22 12  5 12  5 11 18  1 13 21  8 17 22 11 18 21  8 20 23 19 11  5 14\n",
            "  5 26 21  8 19 11 22  9  5 14 21  8 17  7 21 12 22  9  5 14 21 12 17 22\n",
            " 22  9 13 22 21  8 22  9  5 14 21  8 22  9 13 22 21  8 21 12 25 16 20 23\n",
            "  2 18 20 22 11 18 17 22 21  8 20 23  1 13 21 12 21  8 19 11 20 23 12 18\n",
            " 22  9  5 14  1 13 25 16 21  8 17 22 13 22  1 13  7 21 21  8 22  7 15  1\n",
            " 21 12  1 13 12 18 13 22 22  9  2  8 16 13 21 12 21  8 17 22  9 10 21 12\n",
            " 13 22 14 11 21  8 17  7 19 11 11 18 16 13  9 23  5 14 21  8 19 11 20 23\n",
            " 19 11 19 11  5 14 21  8 19  1  9 23 13 22 12  5  5 14 21 12 22  9 11 18\n",
            "  9 23 16 13 13 11 22  9 13 22 21  8  9  7 21  8 22  7 17  7 21 12 12  5\n",
            "  5 14 20 23  1 13 21  8 19  1  5 26 21  8 17 22 17 22 20 23  9 23 20 22\n",
            " 21  8 19 11 22  9 19 11 14 11 21  8 18  1 22  9  4  6 16 13 22  9 20 23\n",
            " 12  5 21  8 22  9  5 14 13 22 25 16 17 22 16 13 10  5 21  8 24  5 16 13\n",
            " 21  8 12  5 11 18 20 23 21 12  5 14  5 26  5 14 21  8  9 23  5 14 13 22\n",
            " 25 16 22  9 13 22 13 11 16 13 12  5  7 26 21  8 19 11 20 23 21 12  5 14\n",
            " 12  5 20 22 20 23  9 23 20 23 25 16 21  8 20 23  1 13 21 12 21  8 16 13\n",
            " 21 12  0  0  0  0  0  0  0  0  0  0  0  0  0  0  0  0  0  0  0  0  0  0\n",
            "  0  0  0  0  0  0  0  0  0  0  0  0  0  0  0  0  0  0  0  0  0  0  0  0\n",
            "  0  0  0  0  0  0  0  0  0  0  0  0  0  0  0  0  0  0  0  0  0] \n",
            "\n"
          ],
          "name": "stdout"
        }
      ]
    },
    {
      "metadata": {
        "id": "nw9A4XmPi88w",
        "colab_type": "code",
        "colab": {
          "base_uri": "https://localhost:8080/",
          "height": 35
        },
        "outputId": "7bb12106-15a0-4853-cce0-ba05278926ff"
      },
      "cell_type": "code",
      "source": [
        "# preparing xtrain part 4...............######\n",
        "\n",
        "\n",
        "#create one-hot vector\n",
        "\n",
        "print(sample,longest_sentence,vocab_size)\n",
        "\n",
        "\n",
        "X_onehot = np.zeros((sample,longest_sentence,vocab_size))\n",
        "\n",
        "for i, indices in enumerate(Xtrain):\n",
        "  for j, character_index in enumerate(indices):\n",
        "    X_onehot[i,j,character_index] = 1\n",
        "\n",
        "#print(X_onehot.info())"
      ],
      "execution_count": 13,
      "outputs": [
        {
          "output_type": "stream",
          "text": [
            "32513 453 27\n"
          ],
          "name": "stdout"
        }
      ]
    },
    {
      "metadata": {
        "id": "_xHQre4nCgsj",
        "colab_type": "code",
        "colab": {
          "base_uri": "https://localhost:8080/",
          "height": 89
        },
        "outputId": "2a4994f0-372e-40c1-eb8e-68c15b77742a"
      },
      "cell_type": "code",
      "source": [
        "# preparing y part 1...............######\n",
        "\n",
        "\n",
        "y = open('drive/coursera/ytrain.txt','r').read()\n",
        "#chars = list(set(data))\n",
        "y = y.split()\n",
        "print(len(y))\n",
        "print(y[32470:32513])\n",
        "#print(y.info())\n",
        "\n",
        "#print(np.percentile(y,[0, 100]))\n",
        "\n",
        "\n",
        "#y = y.values\n",
        "#ytrain = y.ravel()\n",
        "y = to_categorical(y, num_classes=12)\n",
        "#print(y.info())\n",
        "print(y[32512:32513])\n",
        "\n",
        "\n"
      ],
      "execution_count": 36,
      "outputs": [
        {
          "output_type": "stream",
          "text": [
            "32513\n",
            "['3', '6', '6', '10', '3', '6', '10', '7', '8', '7', '10', '10', '1', '7', '4', '8', '7', '3', '6', '6', '11', '6', '8', '5', '7', '11', '3', '7', '11', '8', '7', '6', '1', '1', '1', '10', '0', '7', '6', '10', '10', '6', '3']\n",
            "[[0. 0. 0. 1. 0. 0. 0. 0. 0. 0. 0. 0.]]\n"
          ],
          "name": "stdout"
        }
      ]
    },
    {
      "metadata": {
        "id": "te2G07AZo-_N",
        "colab_type": "code",
        "colab": {
          "base_uri": "https://localhost:8080/",
          "height": 225
        },
        "outputId": "77ebfd85-dfc4-4235-ab03-c1f29da74b27"
      },
      "cell_type": "code",
      "source": [
        "# preparing xtest part 1...............######\n",
        "\n",
        "# load\n",
        "in_filename = 'drive/coursera/xtest_obfuscated.txt'\n",
        "raw_text = load_doc(in_filename)\n",
        "lines = raw_text.split('\\n')\n",
        " \n",
        "# integer encode sequences of characters\n",
        "chars = sorted(list(set(raw_text)))\n",
        "mapping = dict((c, i) for i, c in enumerate(chars))\n",
        "sequences1 = list()\n",
        "for line in lines:\n",
        "\t# integer encode line\n",
        "\tencoded_seq = [mapping[char] for char in line]\n",
        "\t# store\n",
        "\tsequences1.append(encoded_seq)\n",
        " \n",
        "# vocabulary size\n",
        "vocab_size = len(mapping)\n",
        "print('Vocabulary Size: %d' % vocab_size)\n",
        " \n",
        "# separate into input and output\n",
        "sequences1 = np.array(sequences1)\n",
        "Xtests = sequences1\n",
        "sequences1 = [to_categorical(x, num_classes=vocab_size) for x in Xtests]\n",
        "#X = np.array(sequences)\n",
        "\n",
        "print(len(sequences1))\n",
        "\n",
        "print(sequences1[2999:3000])\n",
        "print(len(Xtests))\n",
        "\n",
        "print(Xtests[3000:3001])\n",
        "\n",
        "Xtest = Xtests[:-1]\n",
        "print(len(Xtest))\n"
      ],
      "execution_count": 14,
      "outputs": [
        {
          "output_type": "stream",
          "text": [
            "Vocabulary Size: 27\n",
            "3001\n",
            "[array([[0., 0., 0., ..., 0., 0., 0.],\n",
            "       [0., 0., 0., ..., 0., 0., 0.],\n",
            "       [0., 1., 0., ..., 0., 0., 0.],\n",
            "       ...,\n",
            "       [0., 0., 0., ..., 0., 0., 0.],\n",
            "       [0., 0., 0., ..., 0., 0., 0.],\n",
            "       [0., 0., 0., ..., 0., 0., 0.]], dtype=float32)]\n",
            "3001\n",
            "[list([])]\n",
            "3000\n"
          ],
          "name": "stdout"
        }
      ]
    },
    {
      "metadata": {
        "id": "ZgJVRc6eo_sd",
        "colab_type": "code",
        "colab": {
          "base_uri": "https://localhost:8080/",
          "height": 52
        },
        "outputId": "6371bc7a-10d2-4687-d412-3d6fd895852f"
      },
      "cell_type": "code",
      "source": [
        "## preparing test set part 2\n",
        "\n",
        "longest_sent = len(max(Xtest, key=len))+1\n",
        "print(longest_sent)\n",
        "shortest_sent = len(min(Xtest, key=len))+1\n",
        "print(shortest_sent)"
      ],
      "execution_count": 16,
      "outputs": [
        {
          "output_type": "stream",
          "text": [
            "449\n",
            "73\n"
          ],
          "name": "stdout"
        }
      ]
    },
    {
      "metadata": {
        "id": "kEOCdAHipAXM",
        "colab_type": "code",
        "colab": {
          "base_uri": "https://localhost:8080/",
          "height": 380
        },
        "outputId": "83534fbc-2a33-4293-800e-a0e92958a255"
      },
      "cell_type": "code",
      "source": [
        "## preparing test set part 3\n",
        "\n",
        "\n",
        "#padding all vectors to length 453\n",
        "\n",
        "sample1 = len(Xtest)\n",
        "print(sample1)\n",
        "#vocab_size = len(char_to_ix)\n",
        "\n",
        "from keras.preprocessing import sequence\n",
        "Xtest = sequence.pad_sequences(Xtest, maxlen=longest_sentence,padding=\"post\")\n",
        "\n",
        "print(\"Xtest[1]:\", Xtest[1], \"\\n\") "
      ],
      "execution_count": 17,
      "outputs": [
        {
          "output_type": "stream",
          "text": [
            "3000\n",
            "Xtest[1]: [17 22 13 22 21  8 19 11 12  5  5 14 13 22 22  9  5 14  7 26 24 25 21  8\n",
            " 17 22 13 22  1 13  7 21 21  8 18  1 11 18 16 13 19  1 21  8 21 12 25 16\n",
            " 20 23 21 12 16 13 12  5  7 26 21  8 19 11  9  7  2  8  2  8 11 18 16 13\n",
            " 19  1 21  8 21 12 25 16 20 23 21 12 16 13 12  5  7 26 21  8 19 11  9  7\n",
            "  2  8  2  8 16 13  6 17 21  8 18  1 19 11  9 23 12  5 16 13  4  6 21  8\n",
            " 20 23  1 13 21 12 21  8  9 23  9 23  5 14 21  8 12  5 16 13 24  5 21  8\n",
            " 19 11  5 14 20 23  1 13 21  8 12  5 11 18 16 13 19  1 21  8 24  5 16 13\n",
            " 21  8 12  5 13 22  5 14  1 13 21  8  5 14 21  8 21 12 12  5 11 18  1 13\n",
            " 21  8 21 12 22  9 19 11  9 23 11 18 16 13  4  6 21  8  9  7 21  8 18  1\n",
            " 20 23  5 26 21  8 24  5 16 13 21  8 19 11 13 22  5 14 12  5 24  5  5 14\n",
            " 21  8 20 23 20 22 21  8 21 12 22  9 16 13 19 11 21  8 17  7 19  1 16 13\n",
            " 20 22 21  8 19  1 17 10 21  8 18  1 12  5 20 23 19 11 22  9 11 18  9 23\n",
            " 20 22 21  8 12  5 20 23 21 12 24  5  5 14 21  8 12  5 20 23 19 11 22  9\n",
            " 11 18  9 23 20 22 21  8 20 23 19 11  5 14  5 26 21  8 20 23  1 13 21  8\n",
            " 19 11 22  9  5 14 21  8  5 26 13 22  1 13 21  8 22  9 16 13  7 26 11 18\n",
            " 21  8 17 22  5 14  4  6 21  8 20 23 19  1 20 23 21  8 17 22 22  9  5 14\n",
            "  5 26 21  8 19 11  9 23 16 13 21  8 20 23  1 13 21 12 21  8 21 12 11 18\n",
            " 20 22  0  0  0  0  0  0  0  0  0  0  0  0  0  0  0  0  0  0  0  0  0  0\n",
            "  0  0  0  0  0  0  0  0  0  0  0  0  0  0  0  0  0  0  0  0  0] \n",
            "\n"
          ],
          "name": "stdout"
        }
      ]
    },
    {
      "metadata": {
        "id": "FMxB-7NWpA8d",
        "colab_type": "code",
        "colab": {
          "base_uri": "https://localhost:8080/",
          "height": 155
        },
        "outputId": "0cda1517-ac09-416f-ba8a-7fab45547dcb"
      },
      "cell_type": "code",
      "source": [
        "## preparing test set part 4\n",
        "\n",
        "#create one-hot vector\n",
        "\n",
        "print(sample1,longest_sentence,vocab_size)\n",
        "\n",
        "\n",
        "Xtest_onehot = np.zeros((sample1,longest_sentence,vocab_size))\n",
        "\n",
        "for i, indices in enumerate(Xtest):\n",
        "  for j, character_index in enumerate(indices):\n",
        "    Xtest_onehot[i,j,character_index] = 1\n",
        "\n",
        "print(Xtest_onehot[0:1])"
      ],
      "execution_count": 18,
      "outputs": [
        {
          "output_type": "stream",
          "text": [
            "3000 453 27\n",
            "[[[0. 0. 0. ... 0. 0. 0.]\n",
            "  [0. 0. 0. ... 0. 0. 0.]\n",
            "  [0. 0. 0. ... 0. 0. 0.]\n",
            "  ...\n",
            "  [1. 0. 0. ... 0. 0. 0.]\n",
            "  [1. 0. 0. ... 0. 0. 0.]\n",
            "  [1. 0. 0. ... 0. 0. 0.]]]\n"
          ],
          "name": "stdout"
        }
      ]
    },
    {
      "metadata": {
        "id": "nbmFr0GCi49b",
        "colab_type": "code",
        "colab": {
          "base_uri": "https://localhost:8080/",
          "height": 1015
        },
        "outputId": "ef1e3ec8-2435-40d3-b127-a16b1e1a4942"
      },
      "cell_type": "code",
      "source": [
        "## Run model here\n",
        "\n",
        "\n",
        "### RNN blog https://machinelearningmastery.com/develop-character-based-neural-language-model-keras/#comment-439443\n",
        "\n",
        "num_classes = 12\n",
        "\n",
        "#\n",
        " \n",
        "# define model\n",
        "\n",
        "model = Sequential()\n",
        "model.add(LSTM(32, return_sequences=True,\n",
        "               input_shape=(longest_sentence,vocab_size)))  # returns a sequence of vectors of dimension 32\n",
        "model.add(LSTM(32, return_sequences=True))  # returns a sequence of vectors of dimension 32\n",
        "model.add(LSTM(32))  # return a single vector of dimension 32\n",
        "model.add(Dense(num_classes, activation='softmax'))\n",
        "\n",
        "model.compile(loss='categorical_crossentropy',\n",
        "              optimizer='adam',\n",
        "              metrics=['accuracy'])\n",
        "\n",
        "print(model.summary())\n",
        "# fit model\n",
        "\n",
        "history = model.fit(X_onehot, y, batch_size=128, epochs=10, verbose=2, validation_split=0.33)\n",
        "\n",
        "\n",
        "from matplotlib import pyplot\n",
        "pyplot.plot(history.history['loss'])\n",
        "pyplot.plot(history.history['val_loss'])\n",
        "pyplot.title('model train vs validation loss')\n",
        "pyplot.ylabel('loss')\n",
        "pyplot.xlabel('epoch')\n",
        "pyplot.legend(['train', 'validation'], loc='upper right')\n",
        "pyplot.show()\n",
        "\n",
        "# save the model to file\n",
        "model.save('model.h5')\n",
        "# save the mapping\n",
        "dump(mapping, open('mapping.pkl', 'wb'))\n",
        "\n"
      ],
      "execution_count": 19,
      "outputs": [
        {
          "output_type": "stream",
          "text": [
            "_________________________________________________________________\n",
            "Layer (type)                 Output Shape              Param #   \n",
            "=================================================================\n",
            "lstm_1 (LSTM)                (None, 453, 32)           7680      \n",
            "_________________________________________________________________\n",
            "lstm_2 (LSTM)                (None, 453, 32)           8320      \n",
            "_________________________________________________________________\n",
            "lstm_3 (LSTM)                (None, 32)                8320      \n",
            "_________________________________________________________________\n",
            "dense_1 (Dense)              (None, 12)                396       \n",
            "=================================================================\n",
            "Total params: 24,716\n",
            "Trainable params: 24,716\n",
            "Non-trainable params: 0\n",
            "_________________________________________________________________\n",
            "None\n",
            "Train on 21783 samples, validate on 10730 samples\n",
            "Epoch 1/10\n",
            " - 703s - loss: 2.3418 - acc: 0.1618 - val_loss: 2.3165 - val_acc: 0.1661\n",
            "Epoch 2/10\n",
            " - 708s - loss: 2.2993 - acc: 0.1747 - val_loss: 2.3064 - val_acc: 0.1705\n",
            "Epoch 3/10\n",
            " - 709s - loss: 2.2893 - acc: 0.1781 - val_loss: 2.2939 - val_acc: 0.1726\n",
            "Epoch 4/10\n",
            " - 704s - loss: 2.2799 - acc: 0.1822 - val_loss: 2.2777 - val_acc: 0.1806\n",
            "Epoch 5/10\n",
            " - 708s - loss: 2.2765 - acc: 0.1829 - val_loss: 2.2738 - val_acc: 0.1765\n",
            "Epoch 6/10\n",
            " - 691s - loss: 2.2617 - acc: 0.1967 - val_loss: 2.2615 - val_acc: 0.1968\n",
            "Epoch 7/10\n",
            " - 680s - loss: 2.2489 - acc: 0.2024 - val_loss: 2.2424 - val_acc: 0.1970\n",
            "Epoch 8/10\n",
            " - 685s - loss: 2.2319 - acc: 0.2030 - val_loss: 2.2356 - val_acc: 0.1938\n",
            "Epoch 9/10\n",
            " - 696s - loss: 2.2257 - acc: 0.2041 - val_loss: 2.2371 - val_acc: 0.1995\n",
            "Epoch 10/10\n",
            " - 702s - loss: 2.2174 - acc: 0.2076 - val_loss: 2.2169 - val_acc: 0.2038\n"
          ],
          "name": "stdout"
        },
        {
          "output_type": "display_data",
          "data": {
            "image/png": "[encoded data removed]",
            "text/plain": [
              "<matplotlib.figure.Figure at 0x7f6ea5eb79e8>"
            ]
          },
          "metadata": {
            "tags": []
          }
        }
      ]
    },
    {
      "metadata": {
        "id": "DCaZTKDxoLyQ",
        "colab_type": "code",
        "colab": {
          "base_uri": "https://localhost:8080/",
          "height": 50
        },
        "outputId": "c35297e4-bf15-4cdc-c365-ecf7781b7e23"
      },
      "cell_type": "code",
      "source": [
        "# test model here\n",
        "\n",
        "#model = load_model('model.h5')\n",
        "# make predictions\n",
        "yhat = model.predict_classes(Xtest_onehot)\n",
        "print(yhat[1:10])\n",
        "print(len(yhat))\n",
        "\n",
        "#score = model.evaluate(Xtest_onehot, y_test, batch_size=128)"
      ],
      "execution_count": 21,
      "outputs": [
        {
          "output_type": "stream",
          "text": [
            "[7 7 7 1]\n",
            "3000\n"
          ],
          "name": "stdout"
        }
      ]
    },
    {
      "metadata": {
        "id": "KxCn9YLqweMm",
        "colab_type": "code",
        "colab": {
          "base_uri": "https://localhost:8080/",
          "height": 67
        },
        "outputId": "4be52bf3-5ebb-4937-8fff-939865dd4647"
      },
      "cell_type": "code",
      "source": [
        "print(np.max(yhat, axis=0) - np.min(yhat, axis=0))\n",
        "print(np.max(yhat, axis=0))\n",
        "print(np.min(yhat, axis=0))\n",
        "\n"
      ],
      "execution_count": 27,
      "outputs": [
        {
          "output_type": "stream",
          "text": [
            "9\n",
            "10\n",
            "1\n"
          ],
          "name": "stdout"
        }
      ]
    },
    {
      "metadata": {
        "id": "b_6aPEwE3ILU",
        "colab_type": "code",
        "colab": {}
      },
      "cell_type": "code",
      "source": [
        ""
      ],
      "execution_count": 0,
      "outputs": []
    },
    {
      "metadata": {
        "id": "TBwmbh-A3jnT",
        "colab_type": "code",
        "colab": {}
      },
      "cell_type": "code",
      "source": [
        ""
      ],
      "execution_count": 0,
      "outputs": []
    },
    {
      "metadata": {
        "id": "zmGCzyJ97N3-",
        "colab_type": "code",
        "colab": {}
      },
      "cell_type": "code",
      "source": [
        ""
      ],
      "execution_count": 0,
      "outputs": []
    },
    {
      "metadata": {
        "id": "JlN2eJku-xiM",
        "colab_type": "code",
        "colab": {}
      },
      "cell_type": "code",
      "source": [
        ""
      ],
      "execution_count": 0,
      "outputs": []
    }
  ]
}