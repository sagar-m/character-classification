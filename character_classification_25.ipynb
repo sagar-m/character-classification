{
  "nbformat": 4,
  "nbformat_minor": 0,
  "metadata": {
    "colab": {
      "name": "character_classification.ipynb",
      "version": "0.3.2",
      "provenance": [],
      "collapsed_sections": []
    },
    "kernelspec": {
      "name": "python3",
      "display_name": "Python 3"
    },
    "accelerator": "GPU"
  },
  "cells": [
    {
      "cell_type": "markdown",
      "metadata": {
        "id": "view-in-github",
        "colab_type": "text"
      },
      "source": [
        "[View in Colaboratory](https://colab.research.google.com/github/sagar-m/character-classification/blob/master/character_classification_25.ipynb)"
      ]
    },
    {
      "metadata": {
        "id": "9dqX7Wnk9zKJ",
        "colab_type": "code",
        "colab": {
          "base_uri": "https://localhost:8080/",
          "height": 107
        },
        "outputId": "dde07c54-5306-49ff-e12f-e0d06afddb5d"
      },
      "cell_type": "code",
      "source": [
        "# this is for google drive, please ignore\n",
        "\n",
        "!apt-get install -y -qq software-properties-common python-software-properties module-init-tools\n",
        "!add-apt-repository -y ppa:alessandro-strada/ppa 2>&1 > /dev/null\n",
        "!apt-get update -qq 2>&1 > /dev/null\n",
        "!apt-get -y install -qq google-drive-ocamlfuse fuse\n",
        "from google.colab import auth\n",
        "auth.authenticate_user()\n",
        "from oauth2client.client import GoogleCredentials\n",
        "creds = GoogleCredentials.get_application_default()\n",
        "import getpass\n",
        "!google-drive-ocamlfuse -headless -id={creds.client_id} -secret={creds.client_secret} < /dev/null 2>&1 | grep URL\n",
        "vcode = getpass.getpass()\n",
        "!echo {vcode} | google-drive-ocamlfuse -headless -id={creds.client_id} -secret={creds.client_secret}"
      ],
      "execution_count": 1,
      "outputs": [
        {
          "output_type": "stream",
          "text": [
            "Please, open the following URL in a web browser: https://accounts.google.com/o/oauth2/auth?client_id=32555940559.apps.googleusercontent.com&redirect_uri=urn%3Aietf%3Awg%3Aoauth%3A2.0%3Aoob&scope=https%3A%2F%2Fwww.googleapis.com%2Fauth%2Fdrive&response_type=code&access_type=offline&approval_prompt=force\r\n",
            "··········\n",
            "Please, open the following URL in a web browser: https://accounts.google.com/o/oauth2/auth?client_id=32555940559.apps.googleusercontent.com&redirect_uri=urn%3Aietf%3Awg%3Aoauth%3A2.0%3Aoob&scope=https%3A%2F%2Fwww.googleapis.com%2Fauth%2Fdrive&response_type=code&access_type=offline&approval_prompt=force\n",
            "Please enter the verification code: Access token retrieved correctly.\n"
          ],
          "name": "stdout"
        }
      ]
    },
    {
      "metadata": {
        "id": "8tToBXGM0moQ",
        "colab_type": "code",
        "colab": {}
      },
      "cell_type": "code",
      "source": [
        "# this is for google drive, please ignore\n",
        "!mkdir -p drive\n",
        "!google-drive-ocamlfuse drive"
      ],
      "execution_count": 0,
      "outputs": []
    },
    {
      "metadata": {
        "id": "A5xjtXFt0y--",
        "colab_type": "code",
        "colab": {}
      },
      "cell_type": "code",
      "source": [
        "#just checking the data size\n",
        "#import pandas as pd\n",
        "#xtrain = pd.read_csv('drive/coursera/xtrain_obfuscated.csv')\n",
        "#xtrain.shape"
      ],
      "execution_count": 0,
      "outputs": []
    },
    {
      "metadata": {
        "id": "LVnPfWiw6iY5",
        "colab_type": "code",
        "colab": {}
      },
      "cell_type": "code",
      "source": [
        "\n",
        "##just checking the data size\n",
        "\n",
        "#import pandas as pd\n",
        "#ytrain = pd.read_csv('drive/coursera/ytrain.csv')\n",
        "#print(ytrain.shape)\n",
        "#print(ytrain.tail(5))"
      ],
      "execution_count": 0,
      "outputs": []
    },
    {
      "metadata": {
        "id": "6mJNgpDc8yOp",
        "colab_type": "code",
        "colab": {}
      },
      "cell_type": "code",
      "source": [
        "import os\n",
        "import time\n",
        "import numpy as np\n",
        "import pandas as pd\n"
      ],
      "execution_count": 0,
      "outputs": []
    },
    {
      "metadata": {
        "id": "EqW7M-re6orf",
        "colab_type": "code",
        "colab": {}
      },
      "cell_type": "code",
      "source": [
        "#just checking the data size\n",
        "#xtest = pd.read_csv('drive/coursera/xtest_obfuscated.csv')\n",
        "#xtest.shape"
      ],
      "execution_count": 0,
      "outputs": []
    },
    {
      "metadata": {
        "id": "slmTXZSXebHO",
        "colab_type": "code",
        "colab": {
          "base_uri": "https://localhost:8080/",
          "height": 35
        },
        "outputId": "c7dada0e-eb6b-4871-92c3-167908ac58be"
      },
      "cell_type": "code",
      "source": [
        "\n",
        "from keras.wrappers.scikit_learn import KerasClassifier\n",
        "from sklearn.model_selection import cross_val_score\n",
        "from sklearn.model_selection import KFold\n",
        "from sklearn.preprocessing import LabelEncoder\n",
        "from sklearn.pipeline import Pipeline\n",
        "\n",
        "from pickle import dump\n",
        "from keras.utils import to_categorical, np_utils\n",
        "from keras.models import Sequential\n",
        "from keras.layers import Dense\n",
        "from keras.layers import LSTM\n",
        "import numpy as np"
      ],
      "execution_count": 7,
      "outputs": [
        {
          "output_type": "stream",
          "text": [
            "Using TensorFlow backend.\n"
          ],
          "name": "stderr"
        }
      ]
    },
    {
      "metadata": {
        "id": "Pr2Jgt0FBjbG",
        "colab_type": "code",
        "colab": {}
      },
      "cell_type": "code",
      "source": [
        "# fix random seed for reproducibility\n",
        "seed = 7\n",
        "np.random.seed(seed)"
      ],
      "execution_count": 0,
      "outputs": []
    },
    {
      "metadata": {
        "id": "RsBfttwjIDbk",
        "colab_type": "code",
        "colab": {
          "base_uri": "https://localhost:8080/",
          "height": 69
        },
        "outputId": "46ce4625-fc76-42b7-9fd2-dceaa78d3af7"
      },
      "cell_type": "code",
      "source": [
        "#@title\n",
        "## preprocessing 1\n",
        "\n",
        "\n",
        "data = open('drive/coursera/xtrain_obfuscated.txt','r').read()\n",
        "chars = list(set(data))\n",
        "data_size, vocab_size = len(data), len(chars)\n",
        "print('There are %d total characters and %d unique characters in data.' % (data_size,vocab_size))\n",
        "print(len(chars))\n",
        "chars[1]\n",
        "\n"
      ],
      "execution_count": 9,
      "outputs": [
        {
          "output_type": "stream",
          "text": [
            "There are 13473041 total characters and 27 unique characters in data.\n",
            "27\n"
          ],
          "name": "stdout"
        },
        {
          "output_type": "execute_result",
          "data": {
            "text/plain": [
              "'\\n'"
            ]
          },
          "metadata": {
            "tags": []
          },
          "execution_count": 9
        }
      ]
    },
    {
      "metadata": {
        "id": "vJBwSqPQlfOY",
        "colab_type": "code",
        "colab": {
          "base_uri": "https://localhost:8080/",
          "height": 141
        },
        "outputId": "4289f836-dc0b-4acb-ba7a-35437c7b2362"
      },
      "cell_type": "code",
      "source": [
        "## preprocessing 2\n",
        "\n",
        "#@title\n",
        "#hash table\n",
        "\n",
        "char_to_ix = { ch:i for i,ch in enumerate(sorted(chars)) }\n",
        "ix_to_char = { i:ch for i,ch in enumerate(sorted(chars)) }\n",
        "print(\"char_to_ix = \", \"\\n\", ix_to_char,\"\\n\"*2) \n",
        "print(\"ix_to_char = \", \"\\n\", char_to_ix)"
      ],
      "execution_count": 10,
      "outputs": [
        {
          "output_type": "stream",
          "text": [
            "char_to_ix =  \n",
            " {0: '\\n', 1: 'a', 2: 'b', 3: 'c', 4: 'd', 5: 'e', 6: 'f', 7: 'g', 8: 'h', 9: 'i', 10: 'j', 11: 'k', 12: 'l', 13: 'm', 14: 'n', 15: 'o', 16: 'p', 17: 'q', 18: 'r', 19: 's', 20: 't', 21: 'u', 22: 'v', 23: 'w', 24: 'x', 25: 'y', 26: 'z'} \n",
            "\n",
            "\n",
            "ix_to_char =  \n",
            " {'\\n': 0, 'a': 1, 'b': 2, 'c': 3, 'd': 4, 'e': 5, 'f': 6, 'g': 7, 'h': 8, 'i': 9, 'j': 10, 'k': 11, 'l': 12, 'm': 13, 'n': 14, 'o': 15, 'p': 16, 'q': 17, 'r': 18, 's': 19, 't': 20, 'u': 21, 'v': 22, 'w': 23, 'x': 24, 'y': 25, 'z': 26}\n"
          ],
          "name": "stdout"
        }
      ]
    },
    {
      "metadata": {
        "id": "j8jLzjvXXMxz",
        "colab_type": "code",
        "colab": {
          "base_uri": "https://localhost:8080/",
          "height": 72
        },
        "outputId": "062793bf-c4ec-4bbd-9819-ab5db6903ff0"
      },
      "cell_type": "code",
      "source": [
        "## preprocessing 3\n",
        "\n",
        "\n",
        "#@title\n",
        "#print(xtrain.head(1))\n",
        "#print(examples.head(1).map(str).apply(len))\n",
        "#print(list(map(len, X[[10]]))) \n",
        "#print(list(map(len, xtrain.iloc[[10]]))) \n",
        "\n",
        "examples = data.split('\\n')\n",
        "#print(examples[1:3],\"\\n\")\n",
        "#print(len(examples),\"\\n\")\n",
        "\n",
        "X = []\n",
        "Y = []\n",
        "for index in range(len(examples)):\n",
        "    lineX = [char_to_ix[ch] for ch in examples[index]]\n",
        "    X.append(lineX)\n",
        "    lineY = lineX[1:] + [char_to_ix[\"\\n\"]]\n",
        "    Y.append(lineY)\n",
        "print(\"X[32513]:\", X[32153])\n",
        "#print(\"Y[1]:\", Y[1], \"\\n\") \n",
        "print(len(X),len(Y))\n"
      ],
      "execution_count": 11,
      "outputs": [
        {
          "output_type": "stream",
          "text": [
            "X[32513]: [21, 12, 24, 5, 20, 23, 9, 23, 21, 8, 20, 23, 4, 6, 21, 8, 10, 26, 17, 22, 22, 9, 12, 5, 20, 23, 21, 12, 22, 9, 5, 14, 9, 23, 21, 8, 1, 13, 21, 12, 13, 22, 4, 6, 21, 8, 17, 7, 21, 12, 17, 22, 5, 14, 20, 23, 12, 5, 20, 22, 5, 14, 21, 8, 12, 18, 22, 9, 13, 22, 7, 26, 20, 23, 20, 23, 21, 3, 21, 8, 9, 23, 9, 23, 5, 14, 21, 8, 17, 7, 1, 13, 25, 16, 12, 5, 5, 14, 20, 23, 17, 22, 21, 8, 1, 13, 12, 18, 11, 18, 16, 13, 12, 5, 16, 13, 1, 13, 21, 12, 21, 8, 22, 9, 5, 14, 12, 18, 20, 23, 20, 22, 21, 8, 21, 12, 17, 22, 20, 23, 12, 5, 21, 8, 20, 23, 1, 13, 21, 12, 21, 8, 20, 23, 9, 23, 13, 22, 1, 13, 4, 6, 21, 8, 17, 7, 5, 26, 9, 23, 20, 23, 1, 13, 21, 8, 20, 23, 1, 13, 21, 12, 21, 8, 20, 23, 21, 3, 5, 14, 21, 12, 21, 8, 5, 26, 13, 22, 1, 13, 21, 8, 21, 12, 20, 23, 9, 23, 21, 8, 9, 7, 21, 8, 18, 1, 20, 23, 21, 3, 13, 22, 7, 26, 17, 22, 19, 11, 22, 9, 5, 14, 1, 13, 21, 8, 5, 14, 21, 8, 1, 13, 21, 12, 13, 22, 4, 6, 21, 8, 20, 23, 9, 23, 20, 22, 11, 18, 16, 13, 12, 5, 21, 12, 21, 8, 24, 5, 16, 13, 21, 8, 21, 12, 11, 18, 16, 13, 21, 8, 5, 26, 20, 23, 1, 13, 21, 12, 21, 8, 7, 26, 20, 23, 20, 23, 21, 3, 21, 8, 16, 13, 21, 12, 21, 8, 20, 23, 12, 18, 5, 14, 12, 18, 22, 9, 20, 23, 21, 8, 19, 11, 9, 23, 11, 18, 16, 13, 4, 6, 21, 8, 20, 23, 1, 13, 21, 8, 19, 11, 13, 22, 5, 14, 17, 22, 21, 8, 16, 11, 22, 9, 20, 23, 5, 26, 21, 8, 20, 23, 1, 13, 21, 12, 21, 8, 20, 23, 17, 22, 13, 22, 9, 23, 5, 14, 12, 5, 16, 13, 5, 26, 20, 23, 19, 11, 21, 8, 19, 11, 9, 23, 11, 18, 16, 13, 4, 6, 21, 8, 17, 22, 5, 14, 20, 23, 19, 11, 13, 22, 21, 8, 1, 13, 17, 22, 13, 22, 9, 23, 16, 13, 16, 13, 24, 5]\n",
            "32514 32514\n"
          ],
          "name": "stdout"
        }
      ]
    },
    {
      "metadata": {
        "id": "Tf_OoZf41a6e",
        "colab_type": "code",
        "colab": {}
      },
      "cell_type": "code",
      "source": [
        ""
      ],
      "execution_count": 0,
      "outputs": []
    },
    {
      "metadata": {
        "id": "m1Gxenk8pqAw",
        "colab_type": "code",
        "colab": {
          "base_uri": "https://localhost:8080/",
          "height": 87
        },
        "outputId": "6f1743e3-b7ce-485d-bb62-96d210b40cfb"
      },
      "cell_type": "code",
      "source": [
        "# preparing xtrain part 1...............######\n",
        "\n",
        "\n",
        "from pickle import dump\n",
        "from keras.utils import to_categorical\n",
        "from keras.models import Sequential\n",
        "from keras.layers import Dense\n",
        "from keras.layers import LSTM\n",
        "import numpy as np\n",
        " \n",
        "# load doc into memory\n",
        "def load_doc(filename):\n",
        "\t# open the file as read only\n",
        "\tfile = open(filename, 'r')\n",
        "\t# read all text\n",
        "\ttext = file.read()\n",
        "\t# close the file\n",
        "\tfile.close()\n",
        "\treturn text\n",
        " \n",
        "# load\n",
        "in_filename = 'drive/coursera/xtrain_obfuscated.txt'\n",
        "raw_text = load_doc(in_filename)\n",
        "lines = raw_text.split('\\n')\n",
        " \n",
        "# integer encode sequences of characters\n",
        "chars = sorted(list(set(raw_text)))\n",
        "mapping = dict((c, i) for i, c in enumerate(chars))\n",
        "sequences = list()\n",
        "for line in lines:\n",
        "\t# integer encode line\n",
        "\tencoded_seq = [mapping[char] for char in line]\n",
        "\t# store\n",
        "\tsequences.append(encoded_seq)\n",
        " \n",
        "# vocabulary size\n",
        "vocab_size = len(mapping)\n",
        "print('Vocabulary Size: %d' % vocab_size)\n",
        " \n",
        "# separate into input and output\n",
        "sequences = np.array(sequences)\n",
        "X = sequences\n",
        "sequences = [to_categorical(x, num_classes=vocab_size) for x in X]\n",
        "#X = np.array(sequences)\n",
        "print(X[32513:32514])\n",
        "print(len(X))\n",
        "\n",
        "\n",
        "Xtrain = X[:-1]\n",
        "print(len(Xtrain))\n",
        "#print(Xtrain[0:1])\n",
        "\n",
        "#y = to_categorical(y, num_classes=vocab_size)"
      ],
      "execution_count": 12,
      "outputs": [
        {
          "output_type": "stream",
          "text": [
            "Vocabulary Size: 27\n",
            "[list([])]\n",
            "32514\n",
            "32513\n"
          ],
          "name": "stdout"
        }
      ]
    },
    {
      "metadata": {
        "id": "82u05oUqskO9",
        "colab_type": "code",
        "colab": {}
      },
      "cell_type": "code",
      "source": [
        "\n",
        "\n",
        "#(batch_size, input_dim)\n",
        "#(batch_size, timesteps, input_dim)\n",
        "\n",
        "\n"
      ],
      "execution_count": 0,
      "outputs": []
    },
    {
      "metadata": {
        "id": "MD-PdotaimaK",
        "colab_type": "code",
        "colab": {
          "base_uri": "https://localhost:8080/",
          "height": 52
        },
        "outputId": "71cccedc-d7c7-4d7d-f111-33ab1251e118"
      },
      "cell_type": "code",
      "source": [
        "# preparing xtrain part 2...............######\n",
        "\n",
        "\n",
        "longest_sentence = len(max(Xtrain, key=len))+1\n",
        "print(longest_sentence)\n",
        "shortest_sentence = len(min(Xtrain, key=len))+1\n",
        "print(shortest_sentence)"
      ],
      "execution_count": 13,
      "outputs": [
        {
          "output_type": "stream",
          "text": [
            "453\n",
            "169\n"
          ],
          "name": "stdout"
        }
      ]
    },
    {
      "metadata": {
        "id": "flgAjB7Udi55",
        "colab_type": "code",
        "colab": {
          "base_uri": "https://localhost:8080/",
          "height": 381
        },
        "outputId": "5975988e-9634-46f8-d482-a948faf003b7"
      },
      "cell_type": "code",
      "source": [
        "# preparing xtrain part 3...............######\n",
        "\n",
        "#padding all vectors to length 453\n",
        "\n",
        "sample = len(Xtrain)\n",
        "print(sample)\n",
        "vocab_size = len(char_to_ix)\n",
        "\n",
        "from keras.preprocessing import sequence\n",
        "Xtrain = sequence.pad_sequences(Xtrain, maxlen=longest_sentence,padding=\"post\")\n",
        "\n",
        "print(\"Xtrain[1]:\", Xtrain[1], \"\\n\") "
      ],
      "execution_count": 14,
      "outputs": [
        {
          "output_type": "stream",
          "text": [
            "32513\n",
            "Xtrain[1]: [20 23 13 11  9 23 16 13 17 22 20 23 12  5 21  8 19  1  9 23 19 11 20 23\n",
            " 13 22 12  5 12  5 11 18  1 13 21  8 17 22 11 18 21  8 20 23 19 11  5 14\n",
            "  5 26 21  8 19 11 22  9  5 14 21  8 17  7 21 12 22  9  5 14 21 12 17 22\n",
            " 22  9 13 22 21  8 22  9  5 14 21  8 22  9 13 22 21  8 21 12 25 16 20 23\n",
            "  2 18 20 22 11 18 17 22 21  8 20 23  1 13 21 12 21  8 19 11 20 23 12 18\n",
            " 22  9  5 14  1 13 25 16 21  8 17 22 13 22  1 13  7 21 21  8 22  7 15  1\n",
            " 21 12  1 13 12 18 13 22 22  9  2  8 16 13 21 12 21  8 17 22  9 10 21 12\n",
            " 13 22 14 11 21  8 17  7 19 11 11 18 16 13  9 23  5 14 21  8 19 11 20 23\n",
            " 19 11 19 11  5 14 21  8 19  1  9 23 13 22 12  5  5 14 21 12 22  9 11 18\n",
            "  9 23 16 13 13 11 22  9 13 22 21  8  9  7 21  8 22  7 17  7 21 12 12  5\n",
            "  5 14 20 23  1 13 21  8 19  1  5 26 21  8 17 22 17 22 20 23  9 23 20 22\n",
            " 21  8 19 11 22  9 19 11 14 11 21  8 18  1 22  9  4  6 16 13 22  9 20 23\n",
            " 12  5 21  8 22  9  5 14 13 22 25 16 17 22 16 13 10  5 21  8 24  5 16 13\n",
            " 21  8 12  5 11 18 20 23 21 12  5 14  5 26  5 14 21  8  9 23  5 14 13 22\n",
            " 25 16 22  9 13 22 13 11 16 13 12  5  7 26 21  8 19 11 20 23 21 12  5 14\n",
            " 12  5 20 22 20 23  9 23 20 23 25 16 21  8 20 23  1 13 21 12 21  8 16 13\n",
            " 21 12  0  0  0  0  0  0  0  0  0  0  0  0  0  0  0  0  0  0  0  0  0  0\n",
            "  0  0  0  0  0  0  0  0  0  0  0  0  0  0  0  0  0  0  0  0  0  0  0  0\n",
            "  0  0  0  0  0  0  0  0  0  0  0  0  0  0  0  0  0  0  0  0  0] \n",
            "\n"
          ],
          "name": "stdout"
        }
      ]
    },
    {
      "metadata": {
        "id": "nw9A4XmPi88w",
        "colab_type": "code",
        "colab": {
          "base_uri": "https://localhost:8080/",
          "height": 35
        },
        "outputId": "599e0e41-ef7d-42e2-f8f0-1fee3008700b"
      },
      "cell_type": "code",
      "source": [
        "# preparing xtrain part 4...............######\n",
        "\n",
        "\n",
        "#create one-hot vector\n",
        "\n",
        "print(sample,longest_sentence,vocab_size)\n",
        "\n",
        "\n",
        "X_onehot = np.zeros((sample,longest_sentence,vocab_size))\n",
        "\n",
        "for i, indices in enumerate(Xtrain):\n",
        "  for j, character_index in enumerate(indices):\n",
        "    X_onehot[i,j,character_index] = 1\n",
        "\n",
        "#print(X_onehot.info())"
      ],
      "execution_count": 15,
      "outputs": [
        {
          "output_type": "stream",
          "text": [
            "32513 453 27\n"
          ],
          "name": "stdout"
        }
      ]
    },
    {
      "metadata": {
        "id": "_xHQre4nCgsj",
        "colab_type": "code",
        "colab": {
          "base_uri": "https://localhost:8080/",
          "height": 89
        },
        "outputId": "e8fa258c-a48b-4dc6-8650-cafbbf602483"
      },
      "cell_type": "code",
      "source": [
        "# preparing y part 1...............######\n",
        "\n",
        "\n",
        "y = open('drive/coursera/ytrain.txt','r').read()\n",
        "#chars = list(set(data))\n",
        "y = y.split()\n",
        "print(len(y))\n",
        "print(y[32470:32513])\n",
        "#print(y.info())\n",
        "\n",
        "#print(np.percentile(y,[0, 100]))\n",
        "\n",
        "\n",
        "#y = y.values\n",
        "#ytrain = y.ravel()\n",
        "y = to_categorical(y, num_classes=12)\n",
        "#print(y.info())\n",
        "print(y[32512:32513])\n",
        "\n",
        "\n"
      ],
      "execution_count": 16,
      "outputs": [
        {
          "output_type": "stream",
          "text": [
            "32513\n",
            "['3', '6', '6', '10', '3', '6', '10', '7', '8', '7', '10', '10', '1', '7', '4', '8', '7', '3', '6', '6', '11', '6', '8', '5', '7', '11', '3', '7', '11', '8', '7', '6', '1', '1', '1', '10', '0', '7', '6', '10', '10', '6', '3']\n",
            "[[0. 0. 0. 1. 0. 0. 0. 0. 0. 0. 0. 0.]]\n"
          ],
          "name": "stdout"
        }
      ]
    },
    {
      "metadata": {
        "id": "te2G07AZo-_N",
        "colab_type": "code",
        "colab": {
          "base_uri": "https://localhost:8080/",
          "height": 225
        },
        "outputId": "3b5e6d93-ab7e-49d5-a0bd-312829078d9a"
      },
      "cell_type": "code",
      "source": [
        "# preparing xtest part 1...............######\n",
        "\n",
        "# load\n",
        "in_filename = 'drive/coursera/xtest_obfuscated.txt'\n",
        "raw_text = load_doc(in_filename)\n",
        "lines = raw_text.split('\\n')\n",
        " \n",
        "# integer encode sequences of characters\n",
        "chars = sorted(list(set(raw_text)))\n",
        "mapping = dict((c, i) for i, c in enumerate(chars))\n",
        "sequences1 = list()\n",
        "for line in lines:\n",
        "\t# integer encode line\n",
        "\tencoded_seq = [mapping[char] for char in line]\n",
        "\t# store\n",
        "\tsequences1.append(encoded_seq)\n",
        " \n",
        "# vocabulary size\n",
        "vocab_size = len(mapping)\n",
        "print('Vocabulary Size: %d' % vocab_size)\n",
        " \n",
        "# separate into input and output\n",
        "sequences1 = np.array(sequences1)\n",
        "Xtests = sequences1\n",
        "sequences1 = [to_categorical(x, num_classes=vocab_size) for x in Xtests]\n",
        "#X = np.array(sequences)\n",
        "\n",
        "print(len(sequences1))\n",
        "\n",
        "print(sequences1[2999:3000])\n",
        "print(len(Xtests))\n",
        "\n",
        "print(Xtests[3000:3001])\n",
        "\n",
        "Xtest = Xtests[:-1]\n",
        "print(len(Xtest))\n"
      ],
      "execution_count": 17,
      "outputs": [
        {
          "output_type": "stream",
          "text": [
            "Vocabulary Size: 27\n",
            "3001\n",
            "[array([[0., 0., 0., ..., 0., 0., 0.],\n",
            "       [0., 0., 0., ..., 0., 0., 0.],\n",
            "       [0., 1., 0., ..., 0., 0., 0.],\n",
            "       ...,\n",
            "       [0., 0., 0., ..., 0., 0., 0.],\n",
            "       [0., 0., 0., ..., 0., 0., 0.],\n",
            "       [0., 0., 0., ..., 0., 0., 0.]], dtype=float32)]\n",
            "3001\n",
            "[list([])]\n",
            "3000\n"
          ],
          "name": "stdout"
        }
      ]
    },
    {
      "metadata": {
        "id": "ZgJVRc6eo_sd",
        "colab_type": "code",
        "colab": {
          "base_uri": "https://localhost:8080/",
          "height": 52
        },
        "outputId": "ccac2c62-0a59-4f14-8626-904626f9db6d"
      },
      "cell_type": "code",
      "source": [
        "## preparing test set part 2\n",
        "\n",
        "longest_sent = len(max(Xtest, key=len))+1\n",
        "print(longest_sent)\n",
        "shortest_sent = len(min(Xtest, key=len))+1\n",
        "print(shortest_sent)"
      ],
      "execution_count": 18,
      "outputs": [
        {
          "output_type": "stream",
          "text": [
            "449\n",
            "73\n"
          ],
          "name": "stdout"
        }
      ]
    },
    {
      "metadata": {
        "id": "kEOCdAHipAXM",
        "colab_type": "code",
        "colab": {
          "base_uri": "https://localhost:8080/",
          "height": 381
        },
        "outputId": "bfed477e-6350-4525-a4fc-d6fd748b6f1e"
      },
      "cell_type": "code",
      "source": [
        "## preparing test set part 3\n",
        "\n",
        "\n",
        "#padding all vectors to length 453\n",
        "\n",
        "sample1 = len(Xtest)\n",
        "print(sample1)\n",
        "#vocab_size = len(char_to_ix)\n",
        "\n",
        "from keras.preprocessing import sequence\n",
        "Xtest = sequence.pad_sequences(Xtest, maxlen=longest_sentence,padding=\"post\")\n",
        "\n",
        "print(\"Xtest[1]:\", Xtest[1], \"\\n\") "
      ],
      "execution_count": 19,
      "outputs": [
        {
          "output_type": "stream",
          "text": [
            "3000\n",
            "Xtest[1]: [17 22 13 22 21  8 19 11 12  5  5 14 13 22 22  9  5 14  7 26 24 25 21  8\n",
            " 17 22 13 22  1 13  7 21 21  8 18  1 11 18 16 13 19  1 21  8 21 12 25 16\n",
            " 20 23 21 12 16 13 12  5  7 26 21  8 19 11  9  7  2  8  2  8 11 18 16 13\n",
            " 19  1 21  8 21 12 25 16 20 23 21 12 16 13 12  5  7 26 21  8 19 11  9  7\n",
            "  2  8  2  8 16 13  6 17 21  8 18  1 19 11  9 23 12  5 16 13  4  6 21  8\n",
            " 20 23  1 13 21 12 21  8  9 23  9 23  5 14 21  8 12  5 16 13 24  5 21  8\n",
            " 19 11  5 14 20 23  1 13 21  8 12  5 11 18 16 13 19  1 21  8 24  5 16 13\n",
            " 21  8 12  5 13 22  5 14  1 13 21  8  5 14 21  8 21 12 12  5 11 18  1 13\n",
            " 21  8 21 12 22  9 19 11  9 23 11 18 16 13  4  6 21  8  9  7 21  8 18  1\n",
            " 20 23  5 26 21  8 24  5 16 13 21  8 19 11 13 22  5 14 12  5 24  5  5 14\n",
            " 21  8 20 23 20 22 21  8 21 12 22  9 16 13 19 11 21  8 17  7 19  1 16 13\n",
            " 20 22 21  8 19  1 17 10 21  8 18  1 12  5 20 23 19 11 22  9 11 18  9 23\n",
            " 20 22 21  8 12  5 20 23 21 12 24  5  5 14 21  8 12  5 20 23 19 11 22  9\n",
            " 11 18  9 23 20 22 21  8 20 23 19 11  5 14  5 26 21  8 20 23  1 13 21  8\n",
            " 19 11 22  9  5 14 21  8  5 26 13 22  1 13 21  8 22  9 16 13  7 26 11 18\n",
            " 21  8 17 22  5 14  4  6 21  8 20 23 19  1 20 23 21  8 17 22 22  9  5 14\n",
            "  5 26 21  8 19 11  9 23 16 13 21  8 20 23  1 13 21 12 21  8 21 12 11 18\n",
            " 20 22  0  0  0  0  0  0  0  0  0  0  0  0  0  0  0  0  0  0  0  0  0  0\n",
            "  0  0  0  0  0  0  0  0  0  0  0  0  0  0  0  0  0  0  0  0  0] \n",
            "\n"
          ],
          "name": "stdout"
        }
      ]
    },
    {
      "metadata": {
        "id": "FMxB-7NWpA8d",
        "colab_type": "code",
        "colab": {
          "base_uri": "https://localhost:8080/",
          "height": 156
        },
        "outputId": "b86698fd-d484-4a11-8ba5-fe8a6d33aa95"
      },
      "cell_type": "code",
      "source": [
        "## preparing test set part 4\n",
        "\n",
        "#create one-hot vector\n",
        "\n",
        "print(sample1,longest_sentence,vocab_size)\n",
        "\n",
        "\n",
        "Xtest_onehot = np.zeros((sample1,longest_sentence,vocab_size))\n",
        "\n",
        "for i, indices in enumerate(Xtest):\n",
        "  for j, character_index in enumerate(indices):\n",
        "    Xtest_onehot[i,j,character_index] = 1\n",
        "\n",
        "print(Xtest_onehot[0:1])"
      ],
      "execution_count": 20,
      "outputs": [
        {
          "output_type": "stream",
          "text": [
            "3000 453 27\n",
            "[[[0. 0. 0. ... 0. 0. 0.]\n",
            "  [0. 0. 0. ... 0. 0. 0.]\n",
            "  [0. 0. 0. ... 0. 0. 0.]\n",
            "  ...\n",
            "  [1. 0. 0. ... 0. 0. 0.]\n",
            "  [1. 0. 0. ... 0. 0. 0.]\n",
            "  [1. 0. 0. ... 0. 0. 0.]]]\n"
          ],
          "name": "stdout"
        }
      ]
    },
    {
      "metadata": {
        "id": "nbmFr0GCi49b",
        "colab_type": "code",
        "colab": {
          "base_uri": "https://localhost:8080/",
          "height": 1505
        },
        "outputId": "bf4a4446-a336-44bc-afb2-dc120213b643"
      },
      "cell_type": "code",
      "source": [
        "## Run model here\n",
        "\n",
        "\n",
        "### RNN blog https://machinelearningmastery.com/develop-character-based-neural-language-model-keras/#comment-439443\n",
        "\n",
        "num_classes = 12\n",
        "\n",
        "#\n",
        " \n",
        "# define model\n",
        "\n",
        "model = Sequential()\n",
        "model.add(LSTM(32, return_sequences=True,\n",
        "               input_shape=(longest_sentence,vocab_size)))  # returns a sequence of vectors of dimension 32\n",
        "model.add(LSTM(32, return_sequences=True))  # returns a sequence of vectors of dimension 32\n",
        "model.add(LSTM(32))  # return a single vector of dimension 32\n",
        "model.add(Dense(12, activation='softmax'))\n",
        "\n",
        "model.compile(loss='categorical_crossentropy',\n",
        "              optimizer='adam',\n",
        "              metrics=['accuracy'])\n",
        "\n",
        "print(model.summary())\n",
        "# fit model\n",
        "\n",
        "#history = model.fit(X_onehot, y, batch_size=128, epochs=30, verbose=2, validation_split=0.20)\n",
        "\n",
        "history = model.fit(X_onehot, y, batch_size=128, epochs=25, verbose=2)\n",
        "\n",
        "\n",
        "#from matplotlib import pyplot\n",
        "#pyplot.plot(history.history['loss'])\n",
        "#pyplot.plot(history.history['val_loss'])\n",
        "#pyplot.title('model train vs validation loss')\n",
        "#pyplot.ylabel('loss')\n",
        "#pyplot.xlabel('epoch')\n",
        "#pyplot.legend(['train', 'validation'], loc='upper right')\n",
        "#pyplot.show()\n",
        "\n",
        "from matplotlib import pyplot\n",
        "pyplot.plot(history.history['loss'])\n",
        "#pyplot.plot(history.history['val_loss'])\n",
        "#pyplot.title('model train vs validation loss')\n",
        "pyplot.ylabel('loss')\n",
        "pyplot.xlabel('epoch')\n",
        "#pyplot.legend(['train', 'validation'], loc='upper right')\n",
        "pyplot.show()\n",
        "\n",
        "# save the model to file\n",
        "model.save('model.h5')\n",
        "# save the mapping\n",
        "dump(mapping, open('mapping.pkl', 'wb'))\n",
        "\n"
      ],
      "execution_count": 21,
      "outputs": [
        {
          "output_type": "stream",
          "text": [
            "_________________________________________________________________\n",
            "Layer (type)                 Output Shape              Param #   \n",
            "=================================================================\n",
            "lstm_1 (LSTM)                (None, 453, 32)           7680      \n",
            "_________________________________________________________________\n",
            "lstm_2 (LSTM)                (None, 453, 32)           8320      \n",
            "_________________________________________________________________\n",
            "lstm_3 (LSTM)                (None, 32)                8320      \n",
            "_________________________________________________________________\n",
            "dense_1 (Dense)              (None, 12)                396       \n",
            "=================================================================\n",
            "Total params: 24,716\n",
            "Trainable params: 24,716\n",
            "Non-trainable params: 0\n",
            "_________________________________________________________________\n",
            "None\n",
            "Epoch 1/25\n",
            " - 288s - loss: 2.3312 - acc: 0.1618\n",
            "Epoch 2/25\n",
            " - 285s - loss: 2.3015 - acc: 0.1745\n",
            "Epoch 3/25\n",
            " - 285s - loss: 2.2867 - acc: 0.1874\n",
            "Epoch 4/25\n",
            " - 286s - loss: 2.2631 - acc: 0.1941\n",
            "Epoch 5/25\n",
            " - 287s - loss: 2.2503 - acc: 0.1907\n",
            "Epoch 6/25\n",
            " - 286s - loss: 2.2509 - acc: 0.1918\n",
            "Epoch 7/25\n",
            " - 284s - loss: 2.2550 - acc: 0.1965\n",
            "Epoch 8/25\n",
            " - 284s - loss: 2.2554 - acc: 0.1942\n",
            "Epoch 9/25\n",
            " - 284s - loss: 2.2338 - acc: 0.2007\n",
            "Epoch 10/25\n",
            " - 284s - loss: 2.2260 - acc: 0.2016\n",
            "Epoch 11/25\n",
            " - 283s - loss: 2.2164 - acc: 0.2019\n",
            "Epoch 12/25\n",
            " - 281s - loss: 2.2017 - acc: 0.2068\n",
            "Epoch 13/25\n",
            " - 282s - loss: 2.1986 - acc: 0.2063\n",
            "Epoch 14/25\n",
            " - 284s - loss: 2.1888 - acc: 0.2090\n",
            "Epoch 15/25\n",
            " - 284s - loss: 2.1961 - acc: 0.2060\n",
            "Epoch 16/25\n",
            " - 284s - loss: 2.1833 - acc: 0.2086\n",
            "Epoch 17/25\n",
            " - 283s - loss: 2.1828 - acc: 0.2085\n",
            "Epoch 18/25\n",
            " - 283s - loss: 2.1951 - acc: 0.2032\n",
            "Epoch 19/25\n",
            " - 283s - loss: 2.1787 - acc: 0.2083\n",
            "Epoch 20/25\n",
            " - 283s - loss: 2.1797 - acc: 0.2082\n",
            "Epoch 21/25\n",
            " - 283s - loss: 2.1807 - acc: 0.2075\n",
            "Epoch 22/25\n",
            " - 283s - loss: 2.1757 - acc: 0.2104\n",
            "Epoch 23/25\n",
            " - 284s - loss: 2.1962 - acc: 0.2079\n",
            "Epoch 24/25\n",
            " - 281s - loss: 2.1764 - acc: 0.2103\n",
            "Epoch 25/25\n",
            " - 281s - loss: 2.1751 - acc: 0.2128\n"
          ],
          "name": "stdout"
        },
        {
          "output_type": "display_data",
          "data": {
            "image/png": "[encoded data removed]",
            "text/plain": [
              "<matplotlib.figure.Figure at 0x7fccf2e84da0>"
            ]
          },
          "metadata": {
            "tags": []
          }
        }
      ]
    },
    {
      "metadata": {
        "id": "DCaZTKDxoLyQ",
        "colab_type": "code",
        "colab": {}
      },
      "cell_type": "code",
      "source": [
        "# test model here\n",
        "\n",
        "#model = load_model('model.h5')\n",
        "# make predictions\n",
        "yhat1 = model.predict_classes(Xtest_onehot)\n",
        "yhat2 = np.argmax(model.predict(Xtest_onehot))\n",
        "\n",
        "#print(yhat.head())\n",
        "\n",
        "#score = model.evaluate(Xtest_onehot, y_test, batch_size=128)"
      ],
      "execution_count": 0,
      "outputs": []
    },
    {
      "metadata": {
        "id": "KxCn9YLqweMm",
        "colab_type": "code",
        "colab": {
          "base_uri": "https://localhost:8080/",
          "height": 121
        },
        "outputId": "39fb24a9-99ba-4dd8-d8cc-ef71834f28b8"
      },
      "cell_type": "code",
      "source": [
        "print(len(str(yhat2)))\n",
        "\n",
        "print(len(yhat1))\n",
        "print(yhat1[1:10])\n",
        "\n",
        "\n",
        "print(np.max(yhat1, axis=0) - np.min(yhat1, axis=0))\n",
        "print(np.max(yhat1, axis=0))\n",
        "print(np.min(yhat1, axis=0))\n",
        "\n",
        "\n"
      ],
      "execution_count": 23,
      "outputs": [
        {
          "output_type": "stream",
          "text": [
            "4\n",
            "3000\n",
            "[7 7 7 4 7 7 7 1 8]\n",
            "7\n",
            "8\n",
            "1\n"
          ],
          "name": "stdout"
        }
      ]
    },
    {
      "metadata": {
        "id": "b_6aPEwE3ILU",
        "colab_type": "code",
        "colab": {
          "base_uri": "https://localhost:8080/",
          "height": 35
        },
        "outputId": "b85f3ca7-dce3-4dc2-c987-fab85010113f"
      },
      "cell_type": "code",
      "source": [
        "print(yhat2)"
      ],
      "execution_count": 24,
      "outputs": [
        {
          "output_type": "stream",
          "text": [
            "2528\n"
          ],
          "name": "stdout"
        }
      ]
    },
    {
      "metadata": {
        "id": "TBwmbh-A3jnT",
        "colab_type": "code",
        "colab": {}
      },
      "cell_type": "code",
      "source": [
        ""
      ],
      "execution_count": 0,
      "outputs": []
    },
    {
      "metadata": {
        "id": "zmGCzyJ97N3-",
        "colab_type": "code",
        "colab": {}
      },
      "cell_type": "code",
      "source": [
        ""
      ],
      "execution_count": 0,
      "outputs": []
    },
    {
      "metadata": {
        "id": "JlN2eJku-xiM",
        "colab_type": "code",
        "colab": {}
      },
      "cell_type": "code",
      "source": [
        ""
      ],
      "execution_count": 0,
      "outputs": []
    }
  ]
}